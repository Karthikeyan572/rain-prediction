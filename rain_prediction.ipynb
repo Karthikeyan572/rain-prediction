{
  "cells": [
    {
      "cell_type": "code",
      "execution_count": 176,
      "metadata": {
        "id": "999ce0Kdpt55"
      },
      "outputs": [],
      "source": [
        "import pandas as pd\n",
        "import numpy as np\n",
        "import matplotlib.pyplot as plt\n",
        "import seaborn as sns\n",
        "from sklearn.ensemble import RandomForestClassifier\n",
        "from sklearn.naive_bayes import BernoulliNB\n",
        "from sklearn.preprocessing import LabelEncoder , PowerTransformer\n",
        "from sklearn.model_selection import train_test_split , GridSearchCV\n",
        "from sklearn.metrics import accuracy_score , confusion_matrix ,classification_report"
      ]
    },
    {
      "cell_type": "code",
      "execution_count": 177,
      "metadata": {
        "colab": {
          "base_uri": "https://localhost:8080/",
          "height": 206
        },
        "id": "Z6kzGG2vByWG",
        "outputId": "bb7d8dd4-6385-4a3a-f7ab-3347c22eac4b"
      },
      "outputs": [
        {
          "data": {
            "text/html": [
              "<div>\n",
              "<style scoped>\n",
              "    .dataframe tbody tr th:only-of-type {\n",
              "        vertical-align: middle;\n",
              "    }\n",
              "\n",
              "    .dataframe tbody tr th {\n",
              "        vertical-align: top;\n",
              "    }\n",
              "\n",
              "    .dataframe thead th {\n",
              "        text-align: right;\n",
              "    }\n",
              "</style>\n",
              "<table border=\"1\" class=\"dataframe\">\n",
              "  <thead>\n",
              "    <tr style=\"text-align: right;\">\n",
              "      <th></th>\n",
              "      <th>Date</th>\n",
              "      <th>Location</th>\n",
              "      <th>Temperature</th>\n",
              "      <th>Humidity</th>\n",
              "      <th>Wind Speed</th>\n",
              "      <th>Precipitation</th>\n",
              "      <th>Cloud Cover</th>\n",
              "      <th>Pressure</th>\n",
              "      <th>Rain Tomorrow</th>\n",
              "    </tr>\n",
              "  </thead>\n",
              "  <tbody>\n",
              "    <tr>\n",
              "      <th>0</th>\n",
              "      <td>2024-01-01</td>\n",
              "      <td>New York</td>\n",
              "      <td>87.524795</td>\n",
              "      <td>75.655455</td>\n",
              "      <td>28.379506</td>\n",
              "      <td>0.000000</td>\n",
              "      <td>69.617966</td>\n",
              "      <td>1026.030278</td>\n",
              "      <td>0</td>\n",
              "    </tr>\n",
              "    <tr>\n",
              "      <th>1</th>\n",
              "      <td>2024-01-02</td>\n",
              "      <td>New York</td>\n",
              "      <td>83.259325</td>\n",
              "      <td>28.712617</td>\n",
              "      <td>12.436433</td>\n",
              "      <td>0.526995</td>\n",
              "      <td>41.606048</td>\n",
              "      <td>995.962065</td>\n",
              "      <td>0</td>\n",
              "    </tr>\n",
              "    <tr>\n",
              "      <th>2</th>\n",
              "      <td>2024-01-03</td>\n",
              "      <td>New York</td>\n",
              "      <td>80.943050</td>\n",
              "      <td>64.740043</td>\n",
              "      <td>14.184831</td>\n",
              "      <td>0.916884</td>\n",
              "      <td>77.364763</td>\n",
              "      <td>980.796739</td>\n",
              "      <td>1</td>\n",
              "    </tr>\n",
              "    <tr>\n",
              "      <th>3</th>\n",
              "      <td>2024-01-04</td>\n",
              "      <td>New York</td>\n",
              "      <td>78.097552</td>\n",
              "      <td>59.738984</td>\n",
              "      <td>19.444029</td>\n",
              "      <td>0.094134</td>\n",
              "      <td>52.541196</td>\n",
              "      <td>979.012163</td>\n",
              "      <td>0</td>\n",
              "    </tr>\n",
              "    <tr>\n",
              "      <th>4</th>\n",
              "      <td>2024-01-05</td>\n",
              "      <td>New York</td>\n",
              "      <td>37.059963</td>\n",
              "      <td>34.766784</td>\n",
              "      <td>3.689661</td>\n",
              "      <td>1.361272</td>\n",
              "      <td>85.584000</td>\n",
              "      <td>1031.790859</td>\n",
              "      <td>0</td>\n",
              "    </tr>\n",
              "  </tbody>\n",
              "</table>\n",
              "</div>"
            ],
            "text/plain": [
              "         Date  Location  Temperature   Humidity  Wind Speed  Precipitation  \\\n",
              "0  2024-01-01  New York    87.524795  75.655455   28.379506       0.000000   \n",
              "1  2024-01-02  New York    83.259325  28.712617   12.436433       0.526995   \n",
              "2  2024-01-03  New York    80.943050  64.740043   14.184831       0.916884   \n",
              "3  2024-01-04  New York    78.097552  59.738984   19.444029       0.094134   \n",
              "4  2024-01-05  New York    37.059963  34.766784    3.689661       1.361272   \n",
              "\n",
              "   Cloud Cover     Pressure  Rain Tomorrow  \n",
              "0    69.617966  1026.030278              0  \n",
              "1    41.606048   995.962065              0  \n",
              "2    77.364763   980.796739              1  \n",
              "3    52.541196   979.012163              0  \n",
              "4    85.584000  1031.790859              0  "
            ]
          },
          "execution_count": 177,
          "metadata": {},
          "output_type": "execute_result"
        }
      ],
      "source": [
        "df = pd.read_csv(r'D:\\git\\rain prediction\\usa_rain_prediction_dataset_2024_2025.csv')\n",
        "df.head()"
      ]
    },
    {
      "cell_type": "code",
      "execution_count": 178,
      "metadata": {
        "colab": {
          "base_uri": "https://localhost:8080/"
        },
        "id": "UGVd-aooC8Qb",
        "outputId": "aa9b19a1-8705-42fd-c48e-c1d0ec901505"
      },
      "outputs": [
        {
          "data": {
            "text/plain": [
              "(73100, 9)"
            ]
          },
          "execution_count": 178,
          "metadata": {},
          "output_type": "execute_result"
        }
      ],
      "source": [
        "df.shape"
      ]
    },
    {
      "cell_type": "code",
      "execution_count": 179,
      "metadata": {
        "colab": {
          "base_uri": "https://localhost:8080/"
        },
        "id": "gAs1OmxlDA8G",
        "outputId": "79c7922f-1bf7-4f41-83e5-205f5ff2d0cb"
      },
      "outputs": [
        {
          "name": "stdout",
          "output_type": "stream",
          "text": [
            "<class 'pandas.core.frame.DataFrame'>\n",
            "RangeIndex: 73100 entries, 0 to 73099\n",
            "Data columns (total 9 columns):\n",
            " #   Column         Non-Null Count  Dtype  \n",
            "---  ------         --------------  -----  \n",
            " 0   Date           73100 non-null  object \n",
            " 1   Location       73100 non-null  object \n",
            " 2   Temperature    73100 non-null  float64\n",
            " 3   Humidity       73100 non-null  float64\n",
            " 4   Wind Speed     73100 non-null  float64\n",
            " 5   Precipitation  73100 non-null  float64\n",
            " 6   Cloud Cover    73100 non-null  float64\n",
            " 7   Pressure       73100 non-null  float64\n",
            " 8   Rain Tomorrow  73100 non-null  int64  \n",
            "dtypes: float64(6), int64(1), object(2)\n",
            "memory usage: 5.0+ MB\n"
          ]
        }
      ],
      "source": [
        "df.info()"
      ]
    },
    {
      "cell_type": "code",
      "execution_count": 180,
      "metadata": {
        "colab": {
          "base_uri": "https://localhost:8080/",
          "height": 300
        },
        "id": "48gUJI0fDMb4",
        "outputId": "ab5f40a1-49b3-424b-a648-00cc5a966805"
      },
      "outputs": [
        {
          "data": {
            "text/html": [
              "<div>\n",
              "<style scoped>\n",
              "    .dataframe tbody tr th:only-of-type {\n",
              "        vertical-align: middle;\n",
              "    }\n",
              "\n",
              "    .dataframe tbody tr th {\n",
              "        vertical-align: top;\n",
              "    }\n",
              "\n",
              "    .dataframe thead th {\n",
              "        text-align: right;\n",
              "    }\n",
              "</style>\n",
              "<table border=\"1\" class=\"dataframe\">\n",
              "  <thead>\n",
              "    <tr style=\"text-align: right;\">\n",
              "      <th></th>\n",
              "      <th>Temperature</th>\n",
              "      <th>Humidity</th>\n",
              "      <th>Wind Speed</th>\n",
              "      <th>Precipitation</th>\n",
              "      <th>Cloud Cover</th>\n",
              "      <th>Pressure</th>\n",
              "      <th>Rain Tomorrow</th>\n",
              "    </tr>\n",
              "  </thead>\n",
              "  <tbody>\n",
              "    <tr>\n",
              "      <th>count</th>\n",
              "      <td>73100.000000</td>\n",
              "      <td>73100.000000</td>\n",
              "      <td>73100.000000</td>\n",
              "      <td>73100.000000</td>\n",
              "      <td>73100.000000</td>\n",
              "      <td>73100.000000</td>\n",
              "      <td>73100.000000</td>\n",
              "    </tr>\n",
              "    <tr>\n",
              "      <th>mean</th>\n",
              "      <td>65.182270</td>\n",
              "      <td>59.875041</td>\n",
              "      <td>15.017946</td>\n",
              "      <td>0.390635</td>\n",
              "      <td>54.942807</td>\n",
              "      <td>1005.176013</td>\n",
              "      <td>0.220410</td>\n",
              "    </tr>\n",
              "    <tr>\n",
              "      <th>std</th>\n",
              "      <td>20.205793</td>\n",
              "      <td>23.066115</td>\n",
              "      <td>8.668729</td>\n",
              "      <td>0.474833</td>\n",
              "      <td>25.982487</td>\n",
              "      <td>20.203889</td>\n",
              "      <td>0.414526</td>\n",
              "    </tr>\n",
              "    <tr>\n",
              "      <th>min</th>\n",
              "      <td>30.000766</td>\n",
              "      <td>20.000272</td>\n",
              "      <td>0.000712</td>\n",
              "      <td>0.000000</td>\n",
              "      <td>10.000856</td>\n",
              "      <td>970.000919</td>\n",
              "      <td>0.000000</td>\n",
              "    </tr>\n",
              "    <tr>\n",
              "      <th>25%</th>\n",
              "      <td>47.678968</td>\n",
              "      <td>39.800732</td>\n",
              "      <td>7.485182</td>\n",
              "      <td>0.000000</td>\n",
              "      <td>32.318668</td>\n",
              "      <td>987.697646</td>\n",
              "      <td>0.000000</td>\n",
              "    </tr>\n",
              "    <tr>\n",
              "      <th>50%</th>\n",
              "      <td>65.294949</td>\n",
              "      <td>59.887840</td>\n",
              "      <td>15.102495</td>\n",
              "      <td>0.196909</td>\n",
              "      <td>55.011121</td>\n",
              "      <td>1005.284188</td>\n",
              "      <td>0.000000</td>\n",
              "    </tr>\n",
              "    <tr>\n",
              "      <th>75%</th>\n",
              "      <td>82.636570</td>\n",
              "      <td>79.835990</td>\n",
              "      <td>22.551794</td>\n",
              "      <td>0.673177</td>\n",
              "      <td>77.412469</td>\n",
              "      <td>1022.727410</td>\n",
              "      <td>0.000000</td>\n",
              "    </tr>\n",
              "    <tr>\n",
              "      <th>max</th>\n",
              "      <td>99.997393</td>\n",
              "      <td>99.999025</td>\n",
              "      <td>29.999017</td>\n",
              "      <td>3.078090</td>\n",
              "      <td>99.998957</td>\n",
              "      <td>1039.999765</td>\n",
              "      <td>1.000000</td>\n",
              "    </tr>\n",
              "  </tbody>\n",
              "</table>\n",
              "</div>"
            ],
            "text/plain": [
              "        Temperature      Humidity    Wind Speed  Precipitation   Cloud Cover  \\\n",
              "count  73100.000000  73100.000000  73100.000000   73100.000000  73100.000000   \n",
              "mean      65.182270     59.875041     15.017946       0.390635     54.942807   \n",
              "std       20.205793     23.066115      8.668729       0.474833     25.982487   \n",
              "min       30.000766     20.000272      0.000712       0.000000     10.000856   \n",
              "25%       47.678968     39.800732      7.485182       0.000000     32.318668   \n",
              "50%       65.294949     59.887840     15.102495       0.196909     55.011121   \n",
              "75%       82.636570     79.835990     22.551794       0.673177     77.412469   \n",
              "max       99.997393     99.999025     29.999017       3.078090     99.998957   \n",
              "\n",
              "           Pressure  Rain Tomorrow  \n",
              "count  73100.000000   73100.000000  \n",
              "mean    1005.176013       0.220410  \n",
              "std       20.203889       0.414526  \n",
              "min      970.000919       0.000000  \n",
              "25%      987.697646       0.000000  \n",
              "50%     1005.284188       0.000000  \n",
              "75%     1022.727410       0.000000  \n",
              "max     1039.999765       1.000000  "
            ]
          },
          "execution_count": 180,
          "metadata": {},
          "output_type": "execute_result"
        }
      ],
      "source": [
        "df.describe()"
      ]
    },
    {
      "cell_type": "code",
      "execution_count": 181,
      "metadata": {},
      "outputs": [
        {
          "data": {
            "text/plain": [
              "Rain Tomorrow\n",
              "0    56988\n",
              "1    16112\n",
              "Name: count, dtype: int64"
            ]
          },
          "execution_count": 181,
          "metadata": {},
          "output_type": "execute_result"
        }
      ],
      "source": [
        "df['Rain Tomorrow'].value_counts()"
      ]
    },
    {
      "cell_type": "code",
      "execution_count": 182,
      "metadata": {},
      "outputs": [
        {
          "data": {
            "text/plain": [
              "Rain Tomorrow\n",
              "1    16112\n",
              "0    16112\n",
              "Name: count, dtype: int64"
            ]
          },
          "execution_count": 182,
          "metadata": {},
          "output_type": "execute_result"
        }
      ],
      "source": [
        "majority = df[df['Rain Tomorrow'] == 0]\n",
        "minority = df[df['Rain Tomorrow'] == 1]\n",
        "\n",
        "majority_down = majority.sample(n=len(minority), random_state=42)\n",
        "\n",
        "df = pd.concat([majority_down, minority], axis=0).sample(frac=1, random_state=42).reset_index(drop=True)\n",
        "df['Rain Tomorrow'].value_counts()\n"
      ]
    },
    {
      "cell_type": "code",
      "execution_count": 183,
      "metadata": {
        "colab": {
          "base_uri": "https://localhost:8080/",
          "height": 206
        },
        "id": "d1c1883c",
        "outputId": "27fbd553-12d8-4266-aae0-3798c3f2195d"
      },
      "outputs": [
        {
          "data": {
            "text/html": [
              "<div>\n",
              "<style scoped>\n",
              "    .dataframe tbody tr th:only-of-type {\n",
              "        vertical-align: middle;\n",
              "    }\n",
              "\n",
              "    .dataframe tbody tr th {\n",
              "        vertical-align: top;\n",
              "    }\n",
              "\n",
              "    .dataframe thead th {\n",
              "        text-align: right;\n",
              "    }\n",
              "</style>\n",
              "<table border=\"1\" class=\"dataframe\">\n",
              "  <thead>\n",
              "    <tr style=\"text-align: right;\">\n",
              "      <th></th>\n",
              "      <th>Date</th>\n",
              "      <th>Location</th>\n",
              "      <th>Temperature</th>\n",
              "      <th>Humidity</th>\n",
              "      <th>Wind Speed</th>\n",
              "      <th>Precipitation</th>\n",
              "      <th>Cloud Cover</th>\n",
              "      <th>Pressure</th>\n",
              "      <th>Rain Tomorrow</th>\n",
              "      <th>Year</th>\n",
              "      <th>Month</th>\n",
              "      <th>Day</th>\n",
              "    </tr>\n",
              "  </thead>\n",
              "  <tbody>\n",
              "    <tr>\n",
              "      <th>0</th>\n",
              "      <td>2025-04-20</td>\n",
              "      <td>Chicago</td>\n",
              "      <td>69.114464</td>\n",
              "      <td>94.336506</td>\n",
              "      <td>14.026524</td>\n",
              "      <td>1.421033</td>\n",
              "      <td>13.203948</td>\n",
              "      <td>1033.701421</td>\n",
              "      <td>1</td>\n",
              "      <td>2025</td>\n",
              "      <td>4</td>\n",
              "      <td>20</td>\n",
              "    </tr>\n",
              "    <tr>\n",
              "      <th>1</th>\n",
              "      <td>2024-09-28</td>\n",
              "      <td>Los Angeles</td>\n",
              "      <td>80.202464</td>\n",
              "      <td>45.041409</td>\n",
              "      <td>11.080747</td>\n",
              "      <td>0.000000</td>\n",
              "      <td>49.547218</td>\n",
              "      <td>983.478080</td>\n",
              "      <td>0</td>\n",
              "      <td>2024</td>\n",
              "      <td>9</td>\n",
              "      <td>28</td>\n",
              "    </tr>\n",
              "    <tr>\n",
              "      <th>2</th>\n",
              "      <td>2025-07-26</td>\n",
              "      <td>Philadelphia</td>\n",
              "      <td>46.626643</td>\n",
              "      <td>24.775694</td>\n",
              "      <td>11.757177</td>\n",
              "      <td>0.061948</td>\n",
              "      <td>75.530714</td>\n",
              "      <td>1028.901861</td>\n",
              "      <td>0</td>\n",
              "      <td>2025</td>\n",
              "      <td>7</td>\n",
              "      <td>26</td>\n",
              "    </tr>\n",
              "    <tr>\n",
              "      <th>3</th>\n",
              "      <td>2024-02-14</td>\n",
              "      <td>Denver</td>\n",
              "      <td>56.630639</td>\n",
              "      <td>66.178606</td>\n",
              "      <td>4.251553</td>\n",
              "      <td>0.000000</td>\n",
              "      <td>27.871849</td>\n",
              "      <td>1003.737620</td>\n",
              "      <td>0</td>\n",
              "      <td>2024</td>\n",
              "      <td>2</td>\n",
              "      <td>14</td>\n",
              "    </tr>\n",
              "    <tr>\n",
              "      <th>4</th>\n",
              "      <td>2024-01-03</td>\n",
              "      <td>Houston</td>\n",
              "      <td>54.163279</td>\n",
              "      <td>44.200459</td>\n",
              "      <td>7.831794</td>\n",
              "      <td>0.000000</td>\n",
              "      <td>73.597055</td>\n",
              "      <td>1006.908998</td>\n",
              "      <td>0</td>\n",
              "      <td>2024</td>\n",
              "      <td>1</td>\n",
              "      <td>3</td>\n",
              "    </tr>\n",
              "  </tbody>\n",
              "</table>\n",
              "</div>"
            ],
            "text/plain": [
              "        Date      Location  Temperature   Humidity  Wind Speed  Precipitation  \\\n",
              "0 2025-04-20       Chicago    69.114464  94.336506   14.026524       1.421033   \n",
              "1 2024-09-28   Los Angeles    80.202464  45.041409   11.080747       0.000000   \n",
              "2 2025-07-26  Philadelphia    46.626643  24.775694   11.757177       0.061948   \n",
              "3 2024-02-14        Denver    56.630639  66.178606    4.251553       0.000000   \n",
              "4 2024-01-03       Houston    54.163279  44.200459    7.831794       0.000000   \n",
              "\n",
              "   Cloud Cover     Pressure  Rain Tomorrow  Year  Month  Day  \n",
              "0    13.203948  1033.701421              1  2025      4   20  \n",
              "1    49.547218   983.478080              0  2024      9   28  \n",
              "2    75.530714  1028.901861              0  2025      7   26  \n",
              "3    27.871849  1003.737620              0  2024      2   14  \n",
              "4    73.597055  1006.908998              0  2024      1    3  "
            ]
          },
          "execution_count": 183,
          "metadata": {},
          "output_type": "execute_result"
        }
      ],
      "source": [
        "df['Date'] = pd.to_datetime(df['Date'])\n",
        "df['Year'] = df['Date'].dt.year\n",
        "df['Month'] = df['Date'].dt.month\n",
        "df['Day'] = df['Date'].dt.day\n",
        "df.head()"
      ]
    },
    {
      "cell_type": "code",
      "execution_count": 184,
      "metadata": {
        "colab": {
          "base_uri": "https://localhost:8080/",
          "height": 310
        },
        "id": "quqModGIDw6E",
        "outputId": "3d414896-50af-40b0-bda3-a14c6e5cd735"
      },
      "outputs": [
        {
          "data": {
            "text/html": [
              "<div>\n",
              "<style scoped>\n",
              "    .dataframe tbody tr th:only-of-type {\n",
              "        vertical-align: middle;\n",
              "    }\n",
              "\n",
              "    .dataframe tbody tr th {\n",
              "        vertical-align: top;\n",
              "    }\n",
              "\n",
              "    .dataframe thead th {\n",
              "        text-align: right;\n",
              "    }\n",
              "</style>\n",
              "<table border=\"1\" class=\"dataframe\">\n",
              "  <thead>\n",
              "    <tr style=\"text-align: right;\">\n",
              "      <th></th>\n",
              "      <th>Date</th>\n",
              "      <th>Location</th>\n",
              "      <th>Temperature</th>\n",
              "      <th>Humidity</th>\n",
              "      <th>Wind Speed</th>\n",
              "      <th>Precipitation</th>\n",
              "      <th>Cloud Cover</th>\n",
              "      <th>Pressure</th>\n",
              "      <th>Rain Tomorrow</th>\n",
              "      <th>Year</th>\n",
              "      <th>Month</th>\n",
              "      <th>Day</th>\n",
              "      <th>loc_num</th>\n",
              "    </tr>\n",
              "  </thead>\n",
              "  <tbody>\n",
              "    <tr>\n",
              "      <th>0</th>\n",
              "      <td>2025-04-20</td>\n",
              "      <td>Chicago</td>\n",
              "      <td>69.114464</td>\n",
              "      <td>94.336506</td>\n",
              "      <td>14.026524</td>\n",
              "      <td>1.421033</td>\n",
              "      <td>13.203948</td>\n",
              "      <td>1033.701421</td>\n",
              "      <td>1</td>\n",
              "      <td>2025</td>\n",
              "      <td>4</td>\n",
              "      <td>20</td>\n",
              "      <td>2</td>\n",
              "    </tr>\n",
              "    <tr>\n",
              "      <th>1</th>\n",
              "      <td>2024-09-28</td>\n",
              "      <td>Los Angeles</td>\n",
              "      <td>80.202464</td>\n",
              "      <td>45.041409</td>\n",
              "      <td>11.080747</td>\n",
              "      <td>0.000000</td>\n",
              "      <td>49.547218</td>\n",
              "      <td>983.478080</td>\n",
              "      <td>0</td>\n",
              "      <td>2024</td>\n",
              "      <td>9</td>\n",
              "      <td>28</td>\n",
              "      <td>10</td>\n",
              "    </tr>\n",
              "    <tr>\n",
              "      <th>2</th>\n",
              "      <td>2025-07-26</td>\n",
              "      <td>Philadelphia</td>\n",
              "      <td>46.626643</td>\n",
              "      <td>24.775694</td>\n",
              "      <td>11.757177</td>\n",
              "      <td>0.061948</td>\n",
              "      <td>75.530714</td>\n",
              "      <td>1028.901861</td>\n",
              "      <td>0</td>\n",
              "      <td>2025</td>\n",
              "      <td>7</td>\n",
              "      <td>26</td>\n",
              "      <td>12</td>\n",
              "    </tr>\n",
              "    <tr>\n",
              "      <th>3</th>\n",
              "      <td>2024-02-14</td>\n",
              "      <td>Denver</td>\n",
              "      <td>56.630639</td>\n",
              "      <td>66.178606</td>\n",
              "      <td>4.251553</td>\n",
              "      <td>0.000000</td>\n",
              "      <td>27.871849</td>\n",
              "      <td>1003.737620</td>\n",
              "      <td>0</td>\n",
              "      <td>2024</td>\n",
              "      <td>2</td>\n",
              "      <td>14</td>\n",
              "      <td>5</td>\n",
              "    </tr>\n",
              "    <tr>\n",
              "      <th>4</th>\n",
              "      <td>2024-01-03</td>\n",
              "      <td>Houston</td>\n",
              "      <td>54.163279</td>\n",
              "      <td>44.200459</td>\n",
              "      <td>7.831794</td>\n",
              "      <td>0.000000</td>\n",
              "      <td>73.597055</td>\n",
              "      <td>1006.908998</td>\n",
              "      <td>0</td>\n",
              "      <td>2024</td>\n",
              "      <td>1</td>\n",
              "      <td>3</td>\n",
              "      <td>7</td>\n",
              "    </tr>\n",
              "  </tbody>\n",
              "</table>\n",
              "</div>"
            ],
            "text/plain": [
              "        Date      Location  Temperature   Humidity  Wind Speed  Precipitation  \\\n",
              "0 2025-04-20       Chicago    69.114464  94.336506   14.026524       1.421033   \n",
              "1 2024-09-28   Los Angeles    80.202464  45.041409   11.080747       0.000000   \n",
              "2 2025-07-26  Philadelphia    46.626643  24.775694   11.757177       0.061948   \n",
              "3 2024-02-14        Denver    56.630639  66.178606    4.251553       0.000000   \n",
              "4 2024-01-03       Houston    54.163279  44.200459    7.831794       0.000000   \n",
              "\n",
              "   Cloud Cover     Pressure  Rain Tomorrow  Year  Month  Day  loc_num  \n",
              "0    13.203948  1033.701421              1  2025      4   20        2  \n",
              "1    49.547218   983.478080              0  2024      9   28       10  \n",
              "2    75.530714  1028.901861              0  2025      7   26       12  \n",
              "3    27.871849  1003.737620              0  2024      2   14        5  \n",
              "4    73.597055  1006.908998              0  2024      1    3        7  "
            ]
          },
          "execution_count": 184,
          "metadata": {},
          "output_type": "execute_result"
        }
      ],
      "source": [
        "encoder = LabelEncoder()\n",
        "df['loc_num'] = encoder.fit_transform(df['Location'])\n",
        "df.head()"
      ]
    },
    {
      "cell_type": "code",
      "execution_count": 185,
      "metadata": {
        "colab": {
          "base_uri": "https://localhost:8080/",
          "height": 676
        },
        "id": "zkI2x48aEf3a",
        "outputId": "eec83919-0b2e-409a-cf04-29d0ecebfe5e"
      },
      "outputs": [
        {
          "data": {
            "text/html": [
              "<div>\n",
              "<style scoped>\n",
              "    .dataframe tbody tr th:only-of-type {\n",
              "        vertical-align: middle;\n",
              "    }\n",
              "\n",
              "    .dataframe tbody tr th {\n",
              "        vertical-align: top;\n",
              "    }\n",
              "\n",
              "    .dataframe thead th {\n",
              "        text-align: right;\n",
              "    }\n",
              "</style>\n",
              "<table border=\"1\" class=\"dataframe\">\n",
              "  <thead>\n",
              "    <tr style=\"text-align: right;\">\n",
              "      <th></th>\n",
              "      <th>Location</th>\n",
              "      <th>loc_num</th>\n",
              "    </tr>\n",
              "  </thead>\n",
              "  <tbody>\n",
              "    <tr>\n",
              "      <th>74</th>\n",
              "      <td>Austin</td>\n",
              "      <td>0</td>\n",
              "    </tr>\n",
              "    <tr>\n",
              "      <th>16</th>\n",
              "      <td>Charlotte</td>\n",
              "      <td>1</td>\n",
              "    </tr>\n",
              "    <tr>\n",
              "      <th>0</th>\n",
              "      <td>Chicago</td>\n",
              "      <td>2</td>\n",
              "    </tr>\n",
              "    <tr>\n",
              "      <th>14</th>\n",
              "      <td>Columbus</td>\n",
              "      <td>3</td>\n",
              "    </tr>\n",
              "    <tr>\n",
              "      <th>19</th>\n",
              "      <td>Dallas</td>\n",
              "      <td>4</td>\n",
              "    </tr>\n",
              "    <tr>\n",
              "      <th>3</th>\n",
              "      <td>Denver</td>\n",
              "      <td>5</td>\n",
              "    </tr>\n",
              "    <tr>\n",
              "      <th>36</th>\n",
              "      <td>Fort Worth</td>\n",
              "      <td>6</td>\n",
              "    </tr>\n",
              "    <tr>\n",
              "      <th>4</th>\n",
              "      <td>Houston</td>\n",
              "      <td>7</td>\n",
              "    </tr>\n",
              "    <tr>\n",
              "      <th>5</th>\n",
              "      <td>Indianapolis</td>\n",
              "      <td>8</td>\n",
              "    </tr>\n",
              "    <tr>\n",
              "      <th>10</th>\n",
              "      <td>Jacksonville</td>\n",
              "      <td>9</td>\n",
              "    </tr>\n",
              "    <tr>\n",
              "      <th>1</th>\n",
              "      <td>Los Angeles</td>\n",
              "      <td>10</td>\n",
              "    </tr>\n",
              "    <tr>\n",
              "      <th>20</th>\n",
              "      <td>New York</td>\n",
              "      <td>11</td>\n",
              "    </tr>\n",
              "    <tr>\n",
              "      <th>2</th>\n",
              "      <td>Philadelphia</td>\n",
              "      <td>12</td>\n",
              "    </tr>\n",
              "    <tr>\n",
              "      <th>32</th>\n",
              "      <td>Phoenix</td>\n",
              "      <td>13</td>\n",
              "    </tr>\n",
              "    <tr>\n",
              "      <th>6</th>\n",
              "      <td>San Antonio</td>\n",
              "      <td>14</td>\n",
              "    </tr>\n",
              "    <tr>\n",
              "      <th>13</th>\n",
              "      <td>San Diego</td>\n",
              "      <td>15</td>\n",
              "    </tr>\n",
              "    <tr>\n",
              "      <th>7</th>\n",
              "      <td>San Francisco</td>\n",
              "      <td>16</td>\n",
              "    </tr>\n",
              "    <tr>\n",
              "      <th>39</th>\n",
              "      <td>San Jose</td>\n",
              "      <td>17</td>\n",
              "    </tr>\n",
              "    <tr>\n",
              "      <th>29</th>\n",
              "      <td>Seattle</td>\n",
              "      <td>18</td>\n",
              "    </tr>\n",
              "    <tr>\n",
              "      <th>64</th>\n",
              "      <td>Washington D.C.</td>\n",
              "      <td>19</td>\n",
              "    </tr>\n",
              "  </tbody>\n",
              "</table>\n",
              "</div>"
            ],
            "text/plain": [
              "           Location  loc_num\n",
              "74           Austin        0\n",
              "16        Charlotte        1\n",
              "0           Chicago        2\n",
              "14         Columbus        3\n",
              "19           Dallas        4\n",
              "3            Denver        5\n",
              "36       Fort Worth        6\n",
              "4           Houston        7\n",
              "5      Indianapolis        8\n",
              "10     Jacksonville        9\n",
              "1       Los Angeles       10\n",
              "20         New York       11\n",
              "2      Philadelphia       12\n",
              "32          Phoenix       13\n",
              "6       San Antonio       14\n",
              "13        San Diego       15\n",
              "7     San Francisco       16\n",
              "39         San Jose       17\n",
              "29          Seattle       18\n",
              "64  Washington D.C.       19"
            ]
          },
          "metadata": {},
          "output_type": "display_data"
        }
      ],
      "source": [
        "display(df[['Location', 'loc_num']].drop_duplicates().sort_values('loc_num'))"
      ]
    },
    {
      "cell_type": "code",
      "execution_count": 186,
      "metadata": {
        "colab": {
          "base_uri": "https://localhost:8080/",
          "height": 429
        },
        "id": "d3oEmBsEFkMd",
        "outputId": "8a9ad6b0-da8f-4404-9c27-c436f32e5e40"
      },
      "outputs": [
        {
          "data": {
            "text/plain": [
              "Temperature     -0.002412\n",
              "Humidity        -0.463260\n",
              "Wind Speed       0.000364\n",
              "Precipitation    0.775059\n",
              "Cloud Cover      0.010840\n",
              "Pressure        -0.012808\n",
              "Rain Tomorrow    0.000000\n",
              "Year            -0.001490\n",
              "Month           -0.005917\n",
              "Day              0.005234\n",
              "loc_num         -0.000717\n",
              "dtype: float64"
            ]
          },
          "execution_count": 186,
          "metadata": {},
          "output_type": "execute_result"
        }
      ],
      "source": [
        "df.skew(numeric_only=True)"
      ]
    },
    {
      "cell_type": "code",
      "execution_count": 187,
      "metadata": {
        "colab": {
          "base_uri": "https://localhost:8080/",
          "height": 564
        },
        "id": "zDJbFpgUWFXs",
        "outputId": "01be7825-058c-4e73-a8ae-c9302d273d1f"
      },
      "outputs": [
        {
          "data": {
            "image/png": "[encoded data removed]",
            "text/plain": [
              "<Figure size 800x600 with 1 Axes>"
            ]
          },
          "metadata": {},
          "output_type": "display_data"
        }
      ],
      "source": [
        "plt.figure(figsize = (8,6))\n",
        "sns.histplot(df['Precipitation'],kde = True)\n",
        "plt.xlabel('Precipitation')\n",
        "plt.ylabel('Frequency')\n",
        "plt.title('Distribution of Precipitation')\n",
        "plt.show()"
      ]
    },
    {
      "cell_type": "code",
      "execution_count": 188,
      "metadata": {
        "colab": {
          "base_uri": "https://localhost:8080/",
          "height": 564
        },
        "id": "KmcFy2-pXFYv",
        "outputId": "d2f4aeab-77ee-43a9-f60b-2f54c44a92b5"
      },
      "outputs": [
        {
          "data": {
            "image/png": "[encoded data removed]",
            "text/plain": [
              "<Figure size 800x600 with 1 Axes>"
            ]
          },
          "metadata": {},
          "output_type": "display_data"
        }
      ],
      "source": [
        "plt.figure(figsize = (8,6))\n",
        "sns.histplot(df['Humidity'],kde = True)\n",
        "plt.xlabel('Humidity')\n",
        "plt.ylabel('Frequency')\n",
        "plt.title('Distribution of Humidity')\n",
        "plt.show()"
      ]
    },
    {
      "cell_type": "code",
      "execution_count": 189,
      "metadata": {
        "colab": {
          "base_uri": "https://localhost:8080/",
          "height": 564
        },
        "id": "AnSgI8HVXJbn",
        "outputId": "de5f6230-a434-47f5-c3c1-8ed783fbf363"
      },
      "outputs": [
        {
          "data": {
            "image/png": "[encoded data removed]",
            "text/plain": [
              "<Figure size 800x600 with 1 Axes>"
            ]
          },
          "metadata": {},
          "output_type": "display_data"
        }
      ],
      "source": [
        "plt.figure(figsize = (8,6))\n",
        "sns.histplot(df['Wind Speed'],kde = True)\n",
        "plt.xlabel('Wind Speed')\n",
        "plt.ylabel('Frequency')\n",
        "plt.title('Distribution of Wind Speed')\n",
        "plt.show()"
      ]
    },
    {
      "cell_type": "code",
      "execution_count": 190,
      "metadata": {
        "colab": {
          "base_uri": "https://localhost:8080/",
          "height": 310
        },
        "id": "SZhn7iK0MJw_",
        "outputId": "bc508c79-890c-45c2-f59d-e58aff22e43a"
      },
      "outputs": [
        {
          "data": {
            "text/html": [
              "<div>\n",
              "<style scoped>\n",
              "    .dataframe tbody tr th:only-of-type {\n",
              "        vertical-align: middle;\n",
              "    }\n",
              "\n",
              "    .dataframe tbody tr th {\n",
              "        vertical-align: top;\n",
              "    }\n",
              "\n",
              "    .dataframe thead th {\n",
              "        text-align: right;\n",
              "    }\n",
              "</style>\n",
              "<table border=\"1\" class=\"dataframe\">\n",
              "  <thead>\n",
              "    <tr style=\"text-align: right;\">\n",
              "      <th></th>\n",
              "      <th>Date</th>\n",
              "      <th>Location</th>\n",
              "      <th>Temperature</th>\n",
              "      <th>Humidity</th>\n",
              "      <th>Wind Speed</th>\n",
              "      <th>Precipitation</th>\n",
              "      <th>Cloud Cover</th>\n",
              "      <th>Pressure</th>\n",
              "      <th>Rain Tomorrow</th>\n",
              "      <th>Year</th>\n",
              "      <th>Month</th>\n",
              "      <th>Day</th>\n",
              "      <th>loc_num</th>\n",
              "    </tr>\n",
              "  </thead>\n",
              "  <tbody>\n",
              "    <tr>\n",
              "      <th>0</th>\n",
              "      <td>2025-04-20</td>\n",
              "      <td>Chicago</td>\n",
              "      <td>69.114464</td>\n",
              "      <td>94.336506</td>\n",
              "      <td>14.026524</td>\n",
              "      <td>1.124263</td>\n",
              "      <td>13.203948</td>\n",
              "      <td>1033.701421</td>\n",
              "      <td>1</td>\n",
              "      <td>2025</td>\n",
              "      <td>4</td>\n",
              "      <td>20</td>\n",
              "      <td>2</td>\n",
              "    </tr>\n",
              "    <tr>\n",
              "      <th>1</th>\n",
              "      <td>2024-09-28</td>\n",
              "      <td>Los Angeles</td>\n",
              "      <td>80.202464</td>\n",
              "      <td>45.041409</td>\n",
              "      <td>11.080747</td>\n",
              "      <td>0.000000</td>\n",
              "      <td>49.547218</td>\n",
              "      <td>983.478080</td>\n",
              "      <td>0</td>\n",
              "      <td>2024</td>\n",
              "      <td>9</td>\n",
              "      <td>28</td>\n",
              "      <td>10</td>\n",
              "    </tr>\n",
              "    <tr>\n",
              "      <th>2</th>\n",
              "      <td>2025-07-26</td>\n",
              "      <td>Philadelphia</td>\n",
              "      <td>46.626643</td>\n",
              "      <td>24.775694</td>\n",
              "      <td>11.757177</td>\n",
              "      <td>0.395679</td>\n",
              "      <td>75.530714</td>\n",
              "      <td>1028.901861</td>\n",
              "      <td>0</td>\n",
              "      <td>2025</td>\n",
              "      <td>7</td>\n",
              "      <td>26</td>\n",
              "      <td>12</td>\n",
              "    </tr>\n",
              "    <tr>\n",
              "      <th>3</th>\n",
              "      <td>2024-02-14</td>\n",
              "      <td>Denver</td>\n",
              "      <td>56.630639</td>\n",
              "      <td>66.178606</td>\n",
              "      <td>4.251553</td>\n",
              "      <td>0.000000</td>\n",
              "      <td>27.871849</td>\n",
              "      <td>1003.737620</td>\n",
              "      <td>0</td>\n",
              "      <td>2024</td>\n",
              "      <td>2</td>\n",
              "      <td>14</td>\n",
              "      <td>5</td>\n",
              "    </tr>\n",
              "    <tr>\n",
              "      <th>4</th>\n",
              "      <td>2024-01-03</td>\n",
              "      <td>Houston</td>\n",
              "      <td>54.163279</td>\n",
              "      <td>44.200459</td>\n",
              "      <td>7.831794</td>\n",
              "      <td>0.000000</td>\n",
              "      <td>73.597055</td>\n",
              "      <td>1006.908998</td>\n",
              "      <td>0</td>\n",
              "      <td>2024</td>\n",
              "      <td>1</td>\n",
              "      <td>3</td>\n",
              "      <td>7</td>\n",
              "    </tr>\n",
              "  </tbody>\n",
              "</table>\n",
              "</div>"
            ],
            "text/plain": [
              "        Date      Location  Temperature   Humidity  Wind Speed  Precipitation  \\\n",
              "0 2025-04-20       Chicago    69.114464  94.336506   14.026524       1.124263   \n",
              "1 2024-09-28   Los Angeles    80.202464  45.041409   11.080747       0.000000   \n",
              "2 2025-07-26  Philadelphia    46.626643  24.775694   11.757177       0.395679   \n",
              "3 2024-02-14        Denver    56.630639  66.178606    4.251553       0.000000   \n",
              "4 2024-01-03       Houston    54.163279  44.200459    7.831794       0.000000   \n",
              "\n",
              "   Cloud Cover     Pressure  Rain Tomorrow  Year  Month  Day  loc_num  \n",
              "0    13.203948  1033.701421              1  2025      4   20        2  \n",
              "1    49.547218   983.478080              0  2024      9   28       10  \n",
              "2    75.530714  1028.901861              0  2025      7   26       12  \n",
              "3    27.871849  1003.737620              0  2024      2   14        5  \n",
              "4    73.597055  1006.908998              0  2024      1    3        7  "
            ]
          },
          "execution_count": 190,
          "metadata": {},
          "output_type": "execute_result"
        }
      ],
      "source": [
        "pt = PowerTransformer(method='yeo-johnson')\n",
        "df['Precipitation'] = np.cbrt(df['Precipitation'])\n",
        "df.head()"
      ]
    },
    {
      "cell_type": "code",
      "execution_count": 191,
      "metadata": {
        "colab": {
          "base_uri": "https://localhost:8080/",
          "height": 429
        },
        "id": "SvlQjRHiO467",
        "outputId": "c2c165c9-7d89-4ef7-90d0-161a569c78d4"
      },
      "outputs": [
        {
          "data": {
            "text/plain": [
              "Temperature     -0.002412\n",
              "Humidity        -0.463260\n",
              "Wind Speed       0.000364\n",
              "Precipitation   -0.616344\n",
              "Cloud Cover      0.010840\n",
              "Pressure        -0.012808\n",
              "Rain Tomorrow    0.000000\n",
              "Year            -0.001490\n",
              "Month           -0.005917\n",
              "Day              0.005234\n",
              "loc_num         -0.000717\n",
              "dtype: float64"
            ]
          },
          "execution_count": 191,
          "metadata": {},
          "output_type": "execute_result"
        }
      ],
      "source": [
        "df.skew(numeric_only=True)"
      ]
    },
    {
      "cell_type": "code",
      "execution_count": 192,
      "metadata": {
        "colab": {
          "base_uri": "https://localhost:8080/",
          "height": 564
        },
        "id": "e4Gu3UUPWPv-",
        "outputId": "12950583-373c-4353-81df-01f51241e19e"
      },
      "outputs": [
        {
          "data": {
            "image/png": "[encoded data removed]",
            "text/plain": [
              "<Figure size 800x600 with 1 Axes>"
            ]
          },
          "metadata": {},
          "output_type": "display_data"
        }
      ],
      "source": [
        "plt.figure(figsize = (8,6))\n",
        "sns.histplot(df['Precipitation'],kde = True)\n",
        "plt.xlabel('Precipitation')\n",
        "plt.ylabel('Frequency')\n",
        "plt.title('Distribution of Precipitation')\n",
        "plt.show()"
      ]
    },
    {
      "cell_type": "code",
      "execution_count": 193,
      "metadata": {
        "colab": {
          "base_uri": "https://localhost:8080/",
          "height": 564
        },
        "id": "u5akAkvkXYRq",
        "outputId": "c9c60de8-c6c5-47e6-cca9-35abb628d165"
      },
      "outputs": [
        {
          "data": {
            "image/png": "[encoded data removed]",
            "text/plain": [
              "<Figure size 800x600 with 1 Axes>"
            ]
          },
          "metadata": {},
          "output_type": "display_data"
        }
      ],
      "source": [
        "plt.figure(figsize = (8,6))\n",
        "sns.histplot(df['Humidity'],kde = True)\n",
        "plt.xlabel('Humidity')\n",
        "plt.ylabel('Frequency')\n",
        "plt.title('Distribution of Humidity')\n",
        "plt.show()"
      ]
    },
    {
      "cell_type": "code",
      "execution_count": 194,
      "metadata": {
        "colab": {
          "base_uri": "https://localhost:8080/",
          "height": 564
        },
        "id": "t1YRpeG8XbeK",
        "outputId": "a15460a1-737a-4109-8252-5de82f76896b"
      },
      "outputs": [
        {
          "data": {
            "image/png": "[encoded data removed]",
            "text/plain": [
              "<Figure size 800x600 with 1 Axes>"
            ]
          },
          "metadata": {},
          "output_type": "display_data"
        }
      ],
      "source": [
        "plt.figure(figsize = (8,6))\n",
        "sns.histplot(df['Wind Speed'],kde = True)\n",
        "plt.xlabel('Wind Speed')\n",
        "plt.ylabel('Frequency')\n",
        "plt.title('Distribution of Wind Speed')\n",
        "plt.show()"
      ]
    },
    {
      "cell_type": "code",
      "execution_count": 195,
      "metadata": {
        "id": "8gPtd0VbXdAq"
      },
      "outputs": [],
      "source": [
        "x = df.drop(['Date','Location','Rain Tomorrow'],axis = 1)\n",
        "y = df['Rain Tomorrow']\n",
        "x_train,x_test,y_train,y_test = train_test_split(x,y,test_size = 0.2,random_state = 42)"
      ]
    },
    {
      "cell_type": "code",
      "execution_count": 196,
      "metadata": {
        "colab": {
          "base_uri": "https://localhost:8080/"
        },
        "id": "ZvHFepxtj4jM",
        "outputId": "eb0eb2ff-514f-4b40-d5c5-5403a0a8da54"
      },
      "outputs": [
        {
          "name": "stdout",
          "output_type": "stream",
          "text": [
            "1.0\n"
          ]
        }
      ],
      "source": [
        "clf = RandomForestClassifier()\n",
        "clf.fit(x_train,y_train)\n",
        "y_pred = clf.predict(x_test)\n",
        "print(accuracy_score(y_test,y_pred))"
      ]
    },
    {
      "cell_type": "code",
      "execution_count": 197,
      "metadata": {
        "colab": {
          "base_uri": "https://localhost:8080/"
        },
        "id": "gfMzJbwYnV1E",
        "outputId": "081e8176-d851-48b4-9dd4-da7bfb9c173f"
      },
      "outputs": [
        {
          "name": "stdout",
          "output_type": "stream",
          "text": [
            "[[3310    0]\n",
            " [   0 3135]]\n",
            "              precision    recall  f1-score   support\n",
            "\n",
            "           0       1.00      1.00      1.00      3310\n",
            "           1       1.00      1.00      1.00      3135\n",
            "\n",
            "    accuracy                           1.00      6445\n",
            "   macro avg       1.00      1.00      1.00      6445\n",
            "weighted avg       1.00      1.00      1.00      6445\n",
            "\n"
          ]
        }
      ],
      "source": [
        "confussion_matrix_clf = confusion_matrix(y_test,y_pred)\n",
        "print(confussion_matrix_clf)\n",
        "classification_report_clf = classification_report(y_test,y_pred)\n",
        "print(classification_report_clf)"
      ]
    },
    {
      "cell_type": "code",
      "execution_count": 198,
      "metadata": {
        "id": "ZfaG2B3sj9Ma"
      },
      "outputs": [],
      "source": [
        "X = df.drop(['Date','Location','Rain Tomorrow'],axis = 1)\n",
        "Y = df['Rain Tomorrow']\n",
        "X_train,X_test,Y_train,Y_test = train_test_split(X,Y,test_size = 0.2,random_state = 42)"
      ]
    },
    {
      "cell_type": "code",
      "execution_count": 199,
      "metadata": {
        "colab": {
          "base_uri": "https://localhost:8080/"
        },
        "id": "2Tcpa4kdkdLr",
        "outputId": "ee3fe17d-8cf7-433e-d19d-9e01aef070b3"
      },
      "outputs": [
        {
          "name": "stdout",
          "output_type": "stream",
          "text": [
            "Best Parameters: {'alpha': 0.1, 'binarize': 0.5}\n",
            "0.7833979829325058\n"
          ]
        }
      ],
      "source": [
        "nb = BernoulliNB()\n",
        "\n",
        "param_grid = {\n",
        "    'alpha': [0.1, 0.5, 1.0, 2.0],\n",
        "    'binarize': [0.0, 0.5, 1.0]\n",
        "}\n",
        "\n",
        "grid = GridSearchCV(estimator = nb, param_grid = param_grid , cv=5, scoring='accuracy')\n",
        "grid.fit(X_train, y_train)\n",
        "\n",
        "print(\"Best Parameters:\", grid.best_params_)\n",
        "\n",
        "Y_pred = grid.predict(X_test)\n",
        "print(accuracy_score(Y_test,Y_pred))"
      ]
    },
    {
      "cell_type": "code",
      "execution_count": 200,
      "metadata": {
        "colab": {
          "base_uri": "https://localhost:8080/"
        },
        "id": "zd3W4s18nfzX",
        "outputId": "91217b99-50d0-4e90-9239-9c8b321b59eb"
      },
      "outputs": [
        {
          "name": "stdout",
          "output_type": "stream",
          "text": [
            "[[1914 1396]\n",
            " [   0 3135]]\n",
            "              precision    recall  f1-score   support\n",
            "\n",
            "           0       1.00      0.58      0.73      3310\n",
            "           1       0.69      1.00      0.82      3135\n",
            "\n",
            "    accuracy                           0.78      6445\n",
            "   macro avg       0.85      0.79      0.78      6445\n",
            "weighted avg       0.85      0.78      0.77      6445\n",
            "\n"
          ]
        }
      ],
      "source": [
        "confusion_matrix_nb = confusion_matrix(Y_test,Y_pred)\n",
        "print(confusion_matrix_nb)\n",
        "classification_report_nb = classification_report(Y_test,Y_pred)\n",
        "print(classification_report_nb)"
      ]
    },
    {
      "cell_type": "code",
      "execution_count": 201,
      "metadata": {
        "id": "uhtWWWiDoBp1"
      },
      "outputs": [],
      "source": [
        "import pickle\n",
        "with open('rain_prediction_model.pkl', 'wb') as f:\n",
        "    pickle.dump(grid, f)"
      ]
    }
  ],
  "metadata": {
    "colab": {
      "provenance": []
    },
    "kernelspec": {
      "display_name": "base",
      "language": "python",
      "name": "python3"
    },
    "language_info": {
      "codemirror_mode": {
        "name": "ipython",
        "version": 3
      },
      "file_extension": ".py",
      "mimetype": "text/x-python",
      "name": "python",
      "nbconvert_exporter": "python",
      "pygments_lexer": "ipython3",
      "version": "3.13.5"
    }
  },
  "nbformat": 4,
  "nbformat_minor": 0
}
